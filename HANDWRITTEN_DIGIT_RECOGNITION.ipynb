{
  "nbformat": 4,
  "nbformat_minor": 0,
  "metadata": {
    "kernelspec": {
      "display_name": "Python 3",
      "language": "python",
      "name": "python3"
    },
    "language_info": {
      "codemirror_mode": {
        "name": "ipython",
        "version": 3
      },
      "file_extension": ".py",
      "mimetype": "text/x-python",
      "name": "python",
      "nbconvert_exporter": "python",
      "pygments_lexer": "ipython3",
      "version": "3.8.3"
    },
    "colab": {
      "name": "HANDWRITTEN DIGIT RECOGNITION.ipynb",
      "provenance": [],
      "collapsed_sections": []
    }
  },
  "cells": [
    {
      "cell_type": "code",
      "metadata": {
        "id": "0vhr0-viYYlE"
      },
      "source": [
        "# importing libraries\n",
        "import tensorflow as tf\n",
        "import numpy as np\n",
        "from sklearn.metrics import precision_recall_fscore_support\n",
        "from sklearn.metrics import accuracy_score\n",
        "import matplotlib.pyplot as plt\n",
        "import operator \n",
        "from operator import itemgetter\n",
        "from sklearn.neighbors import KNeighborsClassifier\n",
        "from sklearn.metrics import confusion_matrix\n",
        "import pandas as pd \n",
        "import matplotlib\n",
        "from tensorflow.keras.models import Sequential\n",
        "from tensorflow.keras.layers import Dense,Flatten, Dropout\n",
        "from tensorflow.keras.utils import to_categorical"
      ],
      "execution_count": null,
      "outputs": []
    },
    {
      "cell_type": "code",
      "metadata": {
        "id": "zHTYTbKcYYlW"
      },
      "source": [
        "mnist = tf.keras.datasets.mnist #this is basically characters based on 28x28 size images of  0 to 9"
      ],
      "execution_count": null,
      "outputs": []
    },
    {
      "cell_type": "code",
      "metadata": {
        "id": "99VDoJyzYYlY",
        "colab": {
          "base_uri": "https://localhost:8080/"
        },
        "outputId": "854e5a01-ea18-43dc-b757-f8b4dbcc74ab"
      },
      "source": [
        "(x_train, y_train),(x_test, y_test) = mnist.load_data()  # load mnist data and split into training and testing dataset"
      ],
      "execution_count": null,
      "outputs": [
        {
          "output_type": "stream",
          "text": [
            "Downloading data from https://storage.googleapis.com/tensorflow/tf-keras-datasets/mnist.npz\n",
            "11493376/11490434 [==============================] - 0s 0us/step\n"
          ],
          "name": "stdout"
        }
      ]
    },
    {
      "cell_type": "code",
      "metadata": {
        "colab": {
          "base_uri": "https://localhost:8080/"
        },
        "id": "5AzhmUQvYYlZ",
        "outputId": "584f670a-6160-4855-cc50-2756915097e7"
      },
      "source": [
        "x_train.shape # check the shape of the dataset"
      ],
      "execution_count": null,
      "outputs": [
        {
          "output_type": "execute_result",
          "data": {
            "text/plain": [
              "(60000, 28, 28)"
            ]
          },
          "metadata": {
            "tags": []
          },
          "execution_count": 4
        }
      ]
    },
    {
      "cell_type": "code",
      "metadata": {
        "colab": {
          "base_uri": "https://localhost:8080/",
          "height": 278
        },
        "id": "dPbB4KZNYYlb",
        "outputId": "928d13da-f616-470b-fc98-2279e99ae8ab"
      },
      "source": [
        "# just check the graph how the data lookslike\n",
        "\n",
        "plt.imshow(x_train[0], cmap = \"gray\")\n",
        "plt.xlabel([y_train[0]]) # add the label of the image\n",
        "plt.show() # plot the image"
      ],
      "execution_count": null,
      "outputs": [
        {
          "output_type": "display_data",
          "data": {
            "image/png": "[encoded data removed]",
            "text/plain": [
              "<Figure size 432x288 with 1 Axes>"
            ]
          },
          "metadata": {
            "tags": [],
            "needs_background": "light"
          }
        }
      ]
    },
    {
      "cell_type": "code",
      "metadata": {
        "id": "0yDP5G4MYYlc"
      },
      "source": [
        "# normalize the training and testing datasets\n",
        "x_train = tf.keras.utils.normalize(x_train, axis = 1) \n",
        "x_test = tf.keras.utils.normalize(x_test, axis = 1)"
      ],
      "execution_count": null,
      "outputs": []
    },
    {
      "cell_type": "markdown",
      "metadata": {
        "id": "iCviFu7pYYle"
      },
      "source": [
        "### CNN Model:-"
      ]
    },
    {
      "cell_type": "markdown",
      "metadata": {
        "id": "jfNiPE5qH0zV"
      },
      "source": [
        "Reference: - https://medium.com/analytics-vidhya/hand-written-digit-recognition-using-cnn-classification-process-explanation-f6d75dcb72bb#:~:text=Hand-written%20Digit%20Recognition%20Using%20CNN%20Classification%20%28Process%20Explanation%29,...%206%20Achieved%20Results.%20...%207%20Conclusion.%20"
      ]
    },
    {
      "cell_type": "code",
      "metadata": {
        "id": "yJNC34n0YYlg"
      },
      "source": [
        "# build the model object\n",
        "model = tf.keras.models.Sequential()\n",
        "\n",
        "# add the flatten layer \n",
        "model.add(tf.keras.layers.Flatten())\n",
        "\n",
        "# build the input and the hidden layers\n",
        "model.add(tf.keras.layers.Dense(128, activation = tf.nn.relu))\n",
        "model.add(tf.keras.layers.Dense(128, activation = tf.nn.relu))\n",
        "\n",
        "# build the output layers\n",
        "model.add(tf.keras.layers.Dense(10, activation = tf.nn.softmax))"
      ],
      "execution_count": null,
      "outputs": []
    },
    {
      "cell_type": "code",
      "metadata": {
        "id": "w03vG7VeYYlj"
      },
      "source": [
        "# model is compiled using Adam optimization algorithm where this algorithm is used for training Deep Neural Networks (DNN)\n",
        "model.compile(optimizer = \"adam\", loss = \"sparse_categorical_crossentropy\", metrics = [\"accuracy\"])"
      ],
      "execution_count": null,
      "outputs": []
    },
    {
      "cell_type": "code",
      "metadata": {
        "id": "AGhpXSJTYYll"
      },
      "source": [
        "# take batch size and epochs \n",
        "batch_size = 64\n",
        "epochs = 10"
      ],
      "execution_count": null,
      "outputs": []
    },
    {
      "cell_type": "code",
      "metadata": {
        "colab": {
          "base_uri": "https://localhost:8080/"
        },
        "id": "tcWYIhS2YYlm",
        "outputId": "5e993c3d-6919-4a99-92f8-f78cca45441a"
      },
      "source": [
        "# start training process using train datasets\n",
        "model_log = model.fit(x = x_train, y = y_train, batch_size = batch_size, verbose = 1, epochs = epochs, validation_split = 0.3)"
      ],
      "execution_count": null,
      "outputs": [
        {
          "output_type": "stream",
          "text": [
            "Epoch 1/10\n",
            "657/657 [==============================] - 3s 4ms/step - loss: 0.3725 - accuracy: 0.8944 - val_loss: 0.1961 - val_accuracy: 0.9413\n",
            "Epoch 2/10\n",
            "657/657 [==============================] - 2s 3ms/step - loss: 0.1485 - accuracy: 0.9552 - val_loss: 0.1460 - val_accuracy: 0.9556\n",
            "Epoch 3/10\n",
            "657/657 [==============================] - 2s 3ms/step - loss: 0.1001 - accuracy: 0.9693 - val_loss: 0.1311 - val_accuracy: 0.9597\n",
            "Epoch 4/10\n",
            "657/657 [==============================] - 2s 3ms/step - loss: 0.0750 - accuracy: 0.9763 - val_loss: 0.1288 - val_accuracy: 0.9627\n",
            "Epoch 5/10\n",
            "657/657 [==============================] - 2s 3ms/step - loss: 0.0551 - accuracy: 0.9828 - val_loss: 0.1165 - val_accuracy: 0.9634\n",
            "Epoch 6/10\n",
            "657/657 [==============================] - 2s 3ms/step - loss: 0.0423 - accuracy: 0.9870 - val_loss: 0.1224 - val_accuracy: 0.9655\n",
            "Epoch 7/10\n",
            "657/657 [==============================] - 2s 3ms/step - loss: 0.0334 - accuracy: 0.9901 - val_loss: 0.1147 - val_accuracy: 0.9673\n",
            "Epoch 8/10\n",
            "657/657 [==============================] - 2s 3ms/step - loss: 0.0240 - accuracy: 0.9928 - val_loss: 0.1225 - val_accuracy: 0.9677\n",
            "Epoch 9/10\n",
            "657/657 [==============================] - 2s 3ms/step - loss: 0.0198 - accuracy: 0.9941 - val_loss: 0.1353 - val_accuracy: 0.9642\n",
            "Epoch 10/10\n",
            "657/657 [==============================] - 2s 3ms/step - loss: 0.0149 - accuracy: 0.9953 - val_loss: 0.1502 - val_accuracy: 0.9650\n"
          ],
          "name": "stdout"
        }
      ]
    },
    {
      "cell_type": "code",
      "metadata": {
        "colab": {
          "base_uri": "https://localhost:8080/"
        },
        "id": "KzO_dlsZYYln",
        "outputId": "50d9c214-4f4e-4698-ba15-361eb37b7408"
      },
      "source": [
        "# calculating model performance\n",
        "loss, acc = model.evaluate(x = x_test, y = y_test)\n",
        "\n",
        "# print out the model accuracy\n",
        "\n",
        "print(\"\\n Accuracy of test data\", acc)\n",
        "\n",
        "\n",
        "print(\"\\n Loss of test data\", loss)"
      ],
      "execution_count": null,
      "outputs": [
        {
          "output_type": "stream",
          "text": [
            "313/313 [==============================] - 0s 1ms/step - loss: 0.1290 - accuracy: 0.9648\n",
            "\n",
            " Accuracy of test data 0.9648000001907349\n",
            "\n",
            " Loss of test data 0.1290106624364853\n"
          ],
          "name": "stdout"
        }
      ]
    },
    {
      "cell_type": "code",
      "metadata": {
        "colab": {
          "base_uri": "https://localhost:8080/"
        },
        "id": "wWq4KOZbYYlp",
        "outputId": "e74aa610-f79c-4eb3-d99f-4eb96484847e"
      },
      "source": [
        "# reshaping the testing data\n",
        "x_test = x_test.reshape(-1, 28, 28)\n",
        "x_test.shape"
      ],
      "execution_count": null,
      "outputs": [
        {
          "output_type": "execute_result",
          "data": {
            "text/plain": [
              "(10000, 28, 28)"
            ]
          },
          "metadata": {
            "tags": []
          },
          "execution_count": 12
        }
      ]
    },
    {
      "cell_type": "code",
      "metadata": {
        "colab": {
          "base_uri": "https://localhost:8080/",
          "height": 278
        },
        "id": "KMZHiAvKYYlq",
        "outputId": "30171ff7-9009-4140-e4ec-e982395d9c10"
      },
      "source": [
        "# show the any image from  the test dataset\n",
        "plt.imshow(x_test[0], cmap = \"gray\")\n",
        "plt.xlabel([y_test[0]]) # add the label of the image\n",
        "plt.show() # plot the image"
      ],
      "execution_count": null,
      "outputs": [
        {
          "output_type": "display_data",
          "data": {
            "image/png": "[encoded data removed]",
            "text/plain": [
              "<Figure size 432x288 with 1 Axes>"
            ]
          },
          "metadata": {
            "tags": [],
            "needs_background": "light"
          }
        }
      ]
    },
    {
      "cell_type": "code",
      "metadata": {
        "colab": {
          "base_uri": "https://localhost:8080/",
          "height": 182
        },
        "id": "-PEkCLWIYYlr",
        "outputId": "09ccbcec-72f4-4c28-8479-81e3710cd787"
      },
      "source": [
        "# plotting the graph for the model accuracy\n",
        "import os\n",
        "fig = plt.figure()\n",
        "plt.subplot(2, 1, 1)\n",
        "plt.plot(model_log.history[\"accuracy\"])\n",
        "plt.plot(model_log.history[\"val_accuracy\"])\n",
        "plt.title(\"Model Accuracy\")\n",
        "plt.xlabel(\"Epoch\")\n",
        "plt.ylabel(\"Accuracy\")\n",
        "plt.legend(['train_data', \"test_data\"])\n",
        "plt.tight_layout()\n"
      ],
      "execution_count": null,
      "outputs": [
        {
          "output_type": "display_data",
          "data": {
            "image/png": "[encoded data removed]",
            "text/plain": [
              "<Figure size 432x288 with 1 Axes>"
            ]
          },
          "metadata": {
            "tags": [],
            "needs_background": "light"
          }
        }
      ]
    },
    {
      "cell_type": "code",
      "metadata": {
        "colab": {
          "base_uri": "https://localhost:8080/",
          "height": 182
        },
        "id": "imuAGjI9YYls",
        "outputId": "528068b4-8891-4755-90a8-2cd8e1625c02"
      },
      "source": [
        "# plotting the graph for the model loss\n",
        "plt.subplot(2, 1, 1)\n",
        "plt.plot(model_log.history[\"loss\"])\n",
        "plt.plot(model_log.history[\"val_loss\"])\n",
        "plt.title(\"Model Accuracy\")\n",
        "plt.xlabel(\"Epoch\")\n",
        "plt.ylabel(\"Loss\")\n",
        "plt.legend(['train_data', \"test_data\"])\n",
        "plt.tight_layout()"
      ],
      "execution_count": null,
      "outputs": [
        {
          "output_type": "display_data",
          "data": {
            "image/png": "[encoded data removed]",
            "text/plain": [
              "<Figure size 432x288 with 1 Axes>"
            ]
          },
          "metadata": {
            "tags": [],
            "needs_background": "light"
          }
        }
      ]
    },
    {
      "cell_type": "markdown",
      "metadata": {
        "id": "3QjDwwkDYYlt"
      },
      "source": [
        "### Multilayer Perceptron"
      ]
    },
    {
      "cell_type": "markdown",
      "metadata": {
        "id": "dGPrm14FYYlv"
      },
      "source": [
        "Reference:- http://corochann.com/mnist-training-with-multi-layer-perceptron-1149.html"
      ]
    },
    {
      "cell_type": "markdown",
      "metadata": {
        "id": "W75iAyN5YYlw"
      },
      "source": [
        "Fully connected feedforward network\n",
        "\n",
        "Hidden node = 100\n",
        "\n",
        "Activation function = sigmoid"
      ]
    },
    {
      "cell_type": "code",
      "metadata": {
        "id": "1Tgq16zgYYlx"
      },
      "source": [
        "#  reshape and normalize the input from 0-255 to 0-1\n",
        "(a_train, b_train),(a_test, b_test) = mnist.load_data()\n",
        "a_train = a_train.astype(np.float32).reshape((a_train.shape[0],28*28))/255.0\n",
        "a_test = a_test.astype(np.float32).reshape((a_test.shape[0],28*28))/255.0"
      ],
      "execution_count": null,
      "outputs": []
    },
    {
      "cell_type": "markdown",
      "metadata": {
        "id": "LJog-QAHIsk-"
      },
      "source": [
        "#### It's a problem of digit recognition. As a result, there are ten digits (0 to 9) to forecast, or ten classes. We can convert the vector of class integers into a binary matrix using a one-hot encoding of the class values."
      ]
    },
    {
      "cell_type": "code",
      "metadata": {
        "id": "rESryWplYYl0"
      },
      "source": [
        "b_train = to_categorical(b_train)\n",
        "b_test = to_categorical(b_test)\n",
        "num_classes = b_test.shape[1]"
      ],
      "execution_count": null,
      "outputs": []
    },
    {
      "cell_type": "code",
      "metadata": {
        "colab": {
          "base_uri": "https://localhost:8080/"
        },
        "id": "2hQNs_00YYl1",
        "outputId": "c045db66-09ee-4f32-cf19-24e7e5b6204f"
      },
      "source": [
        "# creating a model\n",
        "multilayer_perceptron = Sequential()\n",
        "multilayer_perceptron.add(Dense (1000, input_dim = 784, activation = 'sigmoid'))\n",
        "multilayer_perceptron.add(Dense (10, activation='sigmoid'))\n",
        "multilayer_perceptron.compile(loss='categorical_crossentropy',optimizer='adam',metrics=['accuracy'])\n",
        "multilayer_perceptron.summary()"
      ],
      "execution_count": null,
      "outputs": [
        {
          "output_type": "stream",
          "text": [
            "Model: \"sequential_1\"\n",
            "_________________________________________________________________\n",
            "Layer (type)                 Output Shape              Param #   \n",
            "=================================================================\n",
            "dense_3 (Dense)              (None, 1000)              785000    \n",
            "_________________________________________________________________\n",
            "dense_4 (Dense)              (None, 10)                10010     \n",
            "=================================================================\n",
            "Total params: 795,010\n",
            "Trainable params: 795,010\n",
            "Non-trainable params: 0\n",
            "_________________________________________________________________\n"
          ],
          "name": "stdout"
        }
      ]
    },
    {
      "cell_type": "code",
      "metadata": {
        "colab": {
          "base_uri": "https://localhost:8080/"
        },
        "id": "vwZKRQAFYYl2",
        "outputId": "526c6bbf-59aa-40e9-bd08-46374c937b1d"
      },
      "source": [
        "# fit the model \n",
        "mlp_model_log = multilayer_perceptron.fit(a_train, b_train, batch_size=batch_size, epochs=epochs, verbose=1, validation_split = 0.3)"
      ],
      "execution_count": null,
      "outputs": [
        {
          "output_type": "stream",
          "text": [
            "Epoch 1/10\n",
            "657/657 [==============================] - 5s 7ms/step - loss: 0.4105 - accuracy: 0.8827 - val_loss: 0.2727 - val_accuracy: 0.9212\n",
            "Epoch 2/10\n",
            "657/657 [==============================] - 5s 7ms/step - loss: 0.2446 - accuracy: 0.9270 - val_loss: 0.2246 - val_accuracy: 0.9357\n",
            "Epoch 3/10\n",
            "657/657 [==============================] - 5s 7ms/step - loss: 0.1826 - accuracy: 0.9460 - val_loss: 0.1752 - val_accuracy: 0.9508\n",
            "Epoch 4/10\n",
            "657/657 [==============================] - 5s 7ms/step - loss: 0.1380 - accuracy: 0.9595 - val_loss: 0.1499 - val_accuracy: 0.9568\n",
            "Epoch 5/10\n",
            "657/657 [==============================] - 5s 7ms/step - loss: 0.1070 - accuracy: 0.9684 - val_loss: 0.1270 - val_accuracy: 0.9631\n",
            "Epoch 6/10\n",
            "657/657 [==============================] - 5s 7ms/step - loss: 0.0848 - accuracy: 0.9749 - val_loss: 0.1134 - val_accuracy: 0.9671\n",
            "Epoch 7/10\n",
            "657/657 [==============================] - 5s 7ms/step - loss: 0.0667 - accuracy: 0.9809 - val_loss: 0.1119 - val_accuracy: 0.9658\n",
            "Epoch 8/10\n",
            "657/657 [==============================] - 5s 7ms/step - loss: 0.0531 - accuracy: 0.9843 - val_loss: 0.0991 - val_accuracy: 0.9713\n",
            "Epoch 9/10\n",
            "657/657 [==============================] - 5s 7ms/step - loss: 0.0417 - accuracy: 0.9881 - val_loss: 0.0953 - val_accuracy: 0.9721\n",
            "Epoch 10/10\n",
            "657/657 [==============================] - 5s 7ms/step - loss: 0.0337 - accuracy: 0.9905 - val_loss: 0.0902 - val_accuracy: 0.9738\n"
          ],
          "name": "stdout"
        }
      ]
    },
    {
      "cell_type": "code",
      "metadata": {
        "colab": {
          "base_uri": "https://localhost:8080/"
        },
        "id": "8XoXGNDpYYl3",
        "outputId": "8da89b69-013c-4b9f-e050-cb70b59ce8b4"
      },
      "source": [
        "# check the accuracy of the multilayer perceptron\n",
        "score = multilayer_perceptron.evaluate(a_test, b_test, verbose = 0)\n",
        "print(\"Multilayer Perceptron Error: %.2f%%\" % (100-score[0]*100))"
      ],
      "execution_count": null,
      "outputs": [
        {
          "output_type": "stream",
          "text": [
            "Multilayer Perceptron Error: 92.22%\n"
          ],
          "name": "stdout"
        }
      ]
    },
    {
      "cell_type": "code",
      "metadata": {
        "colab": {
          "base_uri": "https://localhost:8080/",
          "height": 182
        },
        "id": "a4Zk87zKH0Kr",
        "outputId": "4f7da587-f4e5-40e7-f723-17c5aee6a18f"
      },
      "source": [
        "# plotting the graph for the model accuracy\n",
        "import os\n",
        "fig = plt.figure()\n",
        "plt.subplot(2, 1, 1)\n",
        "plt.plot(mlp_model_log.history[\"accuracy\"])\n",
        "plt.plot(mlp_model_log.history[\"val_accuracy\"])\n",
        "plt.title(\"Model Accuracy\")\n",
        "plt.xlabel(\"Epoch\")\n",
        "plt.ylabel(\"Accuracy\")\n",
        "plt.legend(['train_data', \"test_data\"])\n",
        "plt.tight_layout()"
      ],
      "execution_count": null,
      "outputs": [
        {
          "output_type": "display_data",
          "data": {
            "image/png": "[encoded data removed]",
            "text/plain": [
              "<Figure size 432x288 with 1 Axes>"
            ]
          },
          "metadata": {
            "tags": [],
            "needs_background": "light"
          }
        }
      ]
    },
    {
      "cell_type": "code",
      "metadata": {
        "colab": {
          "base_uri": "https://localhost:8080/",
          "height": 182
        },
        "id": "8FlaeDi7dFYh",
        "outputId": "9cb63449-788f-4cd6-b96c-337e051a2c81"
      },
      "source": [
        "# plotting the graph for the loss of the model\n",
        "plt.subplot(2, 1, 1)\n",
        "plt.plot(mlp_model_log.history[\"loss\"])\n",
        "plt.plot(mlp_model_log.history[\"val_loss\"])\n",
        "plt.title(\"Model Loss\")\n",
        "plt.xlabel(\"Epoch\")\n",
        "plt.ylabel(\"Loss\")\n",
        "plt.legend(['train_data', \"test_data\"])\n",
        "plt.tight_layout()"
      ],
      "execution_count": null,
      "outputs": [
        {
          "output_type": "display_data",
          "data": {
            "image/png": "[encoded data removed]",
            "text/plain": [
              "<Figure size 432x288 with 1 Axes>"
            ]
          },
          "metadata": {
            "tags": [],
            "needs_background": "light"
          }
        }
      ]
    },
    {
      "cell_type": "markdown",
      "metadata": {
        "id": "6HywDn4xYYl4"
      },
      "source": [
        "### Feed Forward Neural Network"
      ]
    },
    {
      "cell_type": "markdown",
      "metadata": {
        "id": "ufjsbk3BJHCf"
      },
      "source": [
        "#### Reference: - https://www.youtube.com/watch?v=vT_0T8Pp1A8"
      ]
    },
    {
      "cell_type": "code",
      "metadata": {
        "id": "OVUVXL37YYl6"
      },
      "source": [
        "(X_train, Y_train),(X_test, Y_test) = mnist.load_data() "
      ],
      "execution_count": null,
      "outputs": []
    },
    {
      "cell_type": "code",
      "metadata": {
        "colab": {
          "base_uri": "https://localhost:8080/"
        },
        "id": "7wLJFFOMYYl7",
        "outputId": "4982e6d9-febc-45de-fa9e-029d7be46d1e"
      },
      "source": [
        "# creating a model\n",
        "f_model=Sequential()\n",
        "f_model.add(Flatten(input_shape=(28,28)))\n",
        "f_model.add(Dense(512,activation='relu'))\n",
        "f_model.add(Dense(256,activation='relu'))\n",
        "f_model.add(Dense(128,activation='relu'))\n",
        "f_model.add(Dense(64,activation='relu'))\n",
        "f_model.add(Dense(10,activation='softmax'))\n",
        "f_model.compile(loss='categorical_crossentropy',optimizer='adam',metrics=['accuracy'])\n",
        "f_model.summary()"
      ],
      "execution_count": null,
      "outputs": [
        {
          "output_type": "stream",
          "text": [
            "Model: \"sequential_2\"\n",
            "_________________________________________________________________\n",
            "Layer (type)                 Output Shape              Param #   \n",
            "=================================================================\n",
            "flatten_1 (Flatten)          (None, 784)               0         \n",
            "_________________________________________________________________\n",
            "dense_5 (Dense)              (None, 512)               401920    \n",
            "_________________________________________________________________\n",
            "dense_6 (Dense)              (None, 256)               131328    \n",
            "_________________________________________________________________\n",
            "dense_7 (Dense)              (None, 128)               32896     \n",
            "_________________________________________________________________\n",
            "dense_8 (Dense)              (None, 64)                8256      \n",
            "_________________________________________________________________\n",
            "dense_9 (Dense)              (None, 10)                650       \n",
            "=================================================================\n",
            "Total params: 575,050\n",
            "Trainable params: 575,050\n",
            "Non-trainable params: 0\n",
            "_________________________________________________________________\n"
          ],
          "name": "stdout"
        }
      ]
    },
    {
      "cell_type": "code",
      "metadata": {
        "colab": {
          "base_uri": "https://localhost:8080/"
        },
        "id": "BZErQnRCYYl8",
        "outputId": "0c37251b-df58-4e6d-8f2a-10f82a27c4ce"
      },
      "source": [
        "#It's a problem of digit recognition. As a result, there are ten digits (0 to 9) to forecast, or ten classes. We can convert the vector of \n",
        "#class integers into a binary matrix using a one-hot encoding of the class values.\n",
        "\n",
        "NY_train = to_categorical(Y_train)\n",
        "NY_test = to_categorical(Y_test)\n",
        "\n",
        "print(Y_train[:10])\n",
        "print(NY_train[:10])"
      ],
      "execution_count": null,
      "outputs": [
        {
          "output_type": "stream",
          "text": [
            "[5 0 4 1 9 2 1 3 1 4]\n",
            "[[0. 0. 0. 0. 0. 1. 0. 0. 0. 0.]\n",
            " [1. 0. 0. 0. 0. 0. 0. 0. 0. 0.]\n",
            " [0. 0. 0. 0. 1. 0. 0. 0. 0. 0.]\n",
            " [0. 1. 0. 0. 0. 0. 0. 0. 0. 0.]\n",
            " [0. 0. 0. 0. 0. 0. 0. 0. 0. 1.]\n",
            " [0. 0. 1. 0. 0. 0. 0. 0. 0. 0.]\n",
            " [0. 1. 0. 0. 0. 0. 0. 0. 0. 0.]\n",
            " [0. 0. 0. 1. 0. 0. 0. 0. 0. 0.]\n",
            " [0. 1. 0. 0. 0. 0. 0. 0. 0. 0.]\n",
            " [0. 0. 0. 0. 1. 0. 0. 0. 0. 0.]]\n"
          ],
          "name": "stdout"
        }
      ]
    },
    {
      "cell_type": "code",
      "metadata": {
        "id": "1ZulHjbdYYl9"
      },
      "source": [
        "NX_train = X_train/255\n",
        "NX_test = X_test/255"
      ],
      "execution_count": null,
      "outputs": []
    },
    {
      "cell_type": "code",
      "metadata": {
        "colab": {
          "base_uri": "https://localhost:8080/"
        },
        "id": "4XsADEJoYYl9",
        "outputId": "996df3ce-f1c0-4f0f-fb65-30d2dcd08b63"
      },
      "source": [
        "# fit the model using training data using batch size of 64 an epochs 10\n",
        "f_model_model_log = f_model.fit(NX_train,NY_train,epochs=epochs, batch_size=batch_size, verbose=1, validation_split = 0.3 )"
      ],
      "execution_count": null,
      "outputs": [
        {
          "output_type": "stream",
          "text": [
            "Epoch 1/10\n",
            "657/657 [==============================] - 5s 7ms/step - loss: 0.2520 - accuracy: 0.9246 - val_loss: 0.1404 - val_accuracy: 0.9582\n",
            "Epoch 2/10\n",
            "657/657 [==============================] - 4s 6ms/step - loss: 0.0976 - accuracy: 0.9700 - val_loss: 0.1297 - val_accuracy: 0.9606\n",
            "Epoch 3/10\n",
            "657/657 [==============================] - 4s 7ms/step - loss: 0.0696 - accuracy: 0.9785 - val_loss: 0.1404 - val_accuracy: 0.9599\n",
            "Epoch 4/10\n",
            "657/657 [==============================] - 4s 7ms/step - loss: 0.0514 - accuracy: 0.9838 - val_loss: 0.1035 - val_accuracy: 0.9706\n",
            "Epoch 5/10\n",
            "657/657 [==============================] - 4s 7ms/step - loss: 0.0422 - accuracy: 0.9865 - val_loss: 0.1193 - val_accuracy: 0.9697\n",
            "Epoch 6/10\n",
            "657/657 [==============================] - 4s 7ms/step - loss: 0.0332 - accuracy: 0.9897 - val_loss: 0.1018 - val_accuracy: 0.9737\n",
            "Epoch 7/10\n",
            "657/657 [==============================] - 4s 6ms/step - loss: 0.0272 - accuracy: 0.9919 - val_loss: 0.1029 - val_accuracy: 0.9743\n",
            "Epoch 8/10\n",
            "657/657 [==============================] - 4s 7ms/step - loss: 0.0285 - accuracy: 0.9911 - val_loss: 0.1159 - val_accuracy: 0.9715\n",
            "Epoch 9/10\n",
            "657/657 [==============================] - 4s 7ms/step - loss: 0.0245 - accuracy: 0.9923 - val_loss: 0.1014 - val_accuracy: 0.9747\n",
            "Epoch 10/10\n",
            "657/657 [==============================] - 4s 6ms/step - loss: 0.0178 - accuracy: 0.9946 - val_loss: 0.1195 - val_accuracy: 0.9749\n"
          ],
          "name": "stdout"
        }
      ]
    },
    {
      "cell_type": "code",
      "metadata": {
        "colab": {
          "base_uri": "https://localhost:8080/",
          "height": 182
        },
        "id": "IWTM72lidwiy",
        "outputId": "c7468aa8-4b37-4720-9d05-7f9bfa4a89d6"
      },
      "source": [
        "# plotting the graph for the model accuracy\n",
        "import os\n",
        "fig = plt.figure()\n",
        "plt.subplot(2, 1, 1)\n",
        "plt.plot(f_model_model_log.history[\"accuracy\"])\n",
        "plt.plot(f_model_model_log.history[\"val_accuracy\"])\n",
        "plt.title(\"Model Accuracy\")\n",
        "plt.xlabel(\"Epoch\")\n",
        "plt.ylabel(\"Accuracy\")\n",
        "plt.legend(['train_data', \"test_data\"])\n",
        "plt.tight_layout()"
      ],
      "execution_count": null,
      "outputs": [
        {
          "output_type": "display_data",
          "data": {
            "image/png": "[encoded data removed]",
            "text/plain": [
              "<Figure size 432x288 with 1 Axes>"
            ]
          },
          "metadata": {
            "tags": [],
            "needs_background": "light"
          }
        }
      ]
    },
    {
      "cell_type": "code",
      "metadata": {
        "colab": {
          "base_uri": "https://localhost:8080/",
          "height": 182
        },
        "id": "d5QpWkXRdyCM",
        "outputId": "fb290d12-4fad-4464-9421-70c6d4e697e7"
      },
      "source": [
        "# plotting the graph for the model loss\n",
        "import os\n",
        "fig = plt.figure()\n",
        "plt.subplot(2, 1, 1)\n",
        "plt.plot(f_model_model_log.history[\"loss\"])\n",
        "plt.plot(f_model_model_log.history[\"val_loss\"])\n",
        "plt.title(\"Model Loss\")\n",
        "plt.xlabel(\"Epoch\")\n",
        "plt.ylabel(\"Loss\")\n",
        "plt.legend(['train_data', \"test_data\"])\n",
        "plt.tight_layout()"
      ],
      "execution_count": null,
      "outputs": [
        {
          "output_type": "display_data",
          "data": {
            "image/png": "[encoded data removed]",
            "text/plain": [
              "<Figure size 432x288 with 1 Axes>"
            ]
          },
          "metadata": {
            "tags": [],
            "needs_background": "light"
          }
        }
      ]
    },
    {
      "cell_type": "code",
      "metadata": {
        "colab": {
          "base_uri": "https://localhost:8080/"
        },
        "id": "-yvg10eWYYl_",
        "outputId": "758acb74-1db2-45c5-d158-e48ce0c87fa0"
      },
      "source": [
        "# evaluating the model \n",
        "f_model.evaluate(NX_test,NY_test)"
      ],
      "execution_count": null,
      "outputs": [
        {
          "output_type": "stream",
          "text": [
            "313/313 [==============================] - 1s 2ms/step - loss: 0.0940 - accuracy: 0.9761\n"
          ],
          "name": "stdout"
        },
        {
          "output_type": "execute_result",
          "data": {
            "text/plain": [
              "[0.09403081983327866, 0.9761000275611877]"
            ]
          },
          "metadata": {
            "tags": []
          },
          "execution_count": 30
        }
      ]
    },
    {
      "cell_type": "code",
      "metadata": {
        "id": "kPnMtAnfYYmA"
      },
      "source": [
        ""
      ],
      "execution_count": null,
      "outputs": []
    }
  ]
}